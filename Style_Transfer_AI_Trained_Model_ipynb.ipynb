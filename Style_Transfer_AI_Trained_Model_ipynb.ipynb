{
  "nbformat": 4,
  "nbformat_minor": 0,
  "metadata": {
    "colab": {
      "provenance": [],
      "gpuType": "T4",
      "authorship_tag": "ABX9TyPpBA10HqNM43/Rspoc+g3f",
      "include_colab_link": true
    },
    "kernelspec": {
      "name": "python3",
      "display_name": "Python 3"
    },
    "language_info": {
      "name": "python"
    },
    "accelerator": "GPU"
  },
  "cells": [
    {
      "cell_type": "markdown",
      "metadata": {
        "id": "view-in-github",
        "colab_type": "text"
      },
      "source": [
        "<a href=\"https://colab.research.google.com/github/JaideepDabral/neural-style-transfer/blob/main/Style_Transfer_AI_Trained_Model_ipynb.ipynb\" target=\"_parent\"><img src=\"https://colab.research.google.com/assets/colab-badge.svg\" alt=\"Open In Colab\"/></a>"
      ]
    },
    {
      "cell_type": "markdown",
      "source": [
        "\n",
        "This project showcases an AI-powered image editing model using Stable Diffusion InstructPix2Pix. The model accurately modifies images based on text instructions and runs efficiently in Colab.\n",
        "---\n",
        "\n"
      ],
      "metadata": {
        "id": "hUbbGSPALvld"
      }
    },
    {
      "cell_type": "code",
      "source": [
        "!pip install diffusers transformers accelerate torch --quiet\n",
        "\n",
        "import torch\n",
        "from diffusers import StableDiffusionInstructPix2PixPipeline, EulerAncestralDiscreteScheduler\n",
        "import PIL\n",
        "import requests\n",
        "\n",
        "# Load Model\n",
        "model_id = \"timbrooks/instruct-pix2pix\"\n",
        "pipe = StableDiffusionInstructPix2PixPipeline.from_pretrained(\n",
        "    model_id, torch_dtype=torch.float16, safety_checker=None\n",
        ")\n",
        "pipe.to(\"cuda\")  # Use GPU\n",
        "\n",
        "# Set up scheduler\n",
        "pipe.scheduler = EulerAncestralDiscreteScheduler.from_config(pipe.scheduler.config)\n",
        "\n",
        "def download_image(url):\n",
        "    image = PIL.Image.open(requests.get(url, stream=True).raw)\n",
        "    image = image.convert(\"RGB\")\n",
        "    return image\n",
        "\n",
        "# Example Image\n",
        "url = \"https://thumbs.dreamstime.com/b/businessman-holding-flowers-handsome-over-gray-background-looking-camera-55131559.jpg\"\n",
        "image = download_image(url)\n",
        "\n",
        "# Apply AI Editing\n",
        "prompt = \"replace flowers in hand with cake\"\n",
        "output = pipe(prompt, image=image, num_inference_steps=10, image_guidance_scale=1.2).images[0]\n",
        "\n",
        "# Save Output\n",
        "output.save(\"output_image.png\")\n",
        "output.show()\n"
      ],
      "metadata": {
        "id": "4DDyL41vKvFn"
      },
      "execution_count": null,
      "outputs": []
    }
  ]
}