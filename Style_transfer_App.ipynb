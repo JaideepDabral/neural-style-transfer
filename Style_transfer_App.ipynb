{
  "nbformat": 4,
  "nbformat_minor": 0,
  "metadata": {
    "colab": {
      "provenance": [],
      "gpuType": "T4",
      "authorship_tag": "ABX9TyMvILmKv2XfFcL8V+QIxbZf",
      "include_colab_link": true
    },
    "kernelspec": {
      "name": "python3",
      "display_name": "Python 3"
    },
    "language_info": {
      "name": "python"
    },
    "accelerator": "GPU"
  },
  "cells": [
    {
      "cell_type": "markdown",
      "metadata": {
        "id": "view-in-github",
        "colab_type": "text"
      },
      "source": [
        "<a href=\"https://colab.research.google.com/github/JaideepDabral/neural-style-transfer/blob/main/Style_transfer_App.ipynb\" target=\"_parent\"><img src=\"https://colab.research.google.com/assets/colab-badge.svg\" alt=\"Open In Colab\"/></a>"
      ]
    },
    {
      "cell_type": "code",
      "execution_count": 1,
      "metadata": {
        "id": "Csd9cvGz82PH"
      },
      "outputs": [],
      "source": [
        "!pip install flask streamlit pyngrok diffusers transformers accelerate torch pillow --quiet"
      ]
    },
    {
      "cell_type": "code",
      "source": [
        "%%writefile api.py\n",
        "from flask import Flask, request, jsonify, send_file\n",
        "import torch\n",
        "from diffusers import StableDiffusionInstructPix2PixPipeline, EulerAncestralDiscreteScheduler\n",
        "import PIL\n",
        "import io\n",
        "\n",
        "app = Flask(__name__)\n",
        "\n",
        "\n",
        "model_id = \"timbrooks/instruct-pix2pix\"\n",
        "pipe = StableDiffusionInstructPix2PixPipeline.from_pretrained(\n",
        "    model_id, torch_dtype=torch.float16, safety_checker=None\n",
        ")\n",
        "pipe.to(\"cuda\")\n",
        "pipe.scheduler = EulerAncestralDiscreteScheduler.from_config(pipe.scheduler.config)\n",
        "\n",
        "\n",
        "def edit_image(prompt, image):\n",
        "    try:\n",
        "\n",
        "        print(f\"Editing Image: {image.size}, mode: {image.mode}\")\n",
        "\n",
        "\n",
        "        output = pipe(\n",
        "            prompt,\n",
        "            image=image,\n",
        "            num_inference_steps=10,\n",
        "            image_guidance_scale=1.2\n",
        "        ).images[0]\n",
        "\n",
        "        print(\"✅ Image processing successful\")\n",
        "        return output\n",
        "    except Exception as e:\n",
        "        print(f\"❌ Error in edit_image: {str(e)}\")  # Debugging\n",
        "        return None\n",
        "\n",
        "\n",
        "@app.route(\"/edit\", methods=[\"POST\"])\n",
        "def process_image():\n",
        "    try:\n",
        "\n",
        "        print(f\"📥 Received files: {request.files.keys()}\")\n",
        "\n",
        "        prompt = request.form.get(\"prompt\")\n",
        "        file = request.files.get(\"image\")\n",
        "\n",
        "        if not file or not prompt:\n",
        "            return jsonify({\"error\": \"Missing prompt or image\"}), 400\n",
        "\n",
        "\n",
        "        print(f\"🔍 Processing file: {file.filename}, Content-Type: {file.content_type}\")\n",
        "\n",
        "\n",
        "        image = PIL.Image.open(file.stream).convert(\"RGB\")\n",
        "\n",
        "\n",
        "        print(f\"🖼️ Image format: {image.format}, size: {image.size}\")\n",
        "\n",
        "\n",
        "        output_image = edit_image(prompt, image)\n",
        "\n",
        "        if output_image is None:\n",
        "            return jsonify({\"error\": \"Image processing failed\"}), 500\n",
        "\n",
        "\n",
        "        img_io = io.BytesIO()\n",
        "        output_image.save(img_io, format=\"PNG\")\n",
        "        img_io.seek(0)\n",
        "\n",
        "        print(\"✅ Returning processed image\")\n",
        "        return send_file(img_io, mimetype=\"image/png\")\n",
        "\n",
        "    except Exception as e:\n",
        "        print(f\"❌ Flask Error: {str(e)}\")\n",
        "        return jsonify({\"error\": str(e)}), 500\n",
        "\n",
        "\n",
        "if __name__ == \"__main__\":\n",
        "    app.run(host=\"0.0.0.0\", port=5000, debug=True)\n",
        "\n",
        "\n"
      ],
      "metadata": {
        "colab": {
          "base_uri": "https://localhost:8080/"
        },
        "id": "2V7vn1qi89F5",
        "outputId": "e31e342c-16d5-4cfa-dff8-bac688c439b3"
      },
      "execution_count": 2,
      "outputs": [
        {
          "output_type": "stream",
          "name": "stdout",
          "text": [
            "Overwriting api.py\n"
          ]
        }
      ]
    },
    {
      "cell_type": "code",
      "source": [
        "!pip install pyngrok flask-ngrok --quiet\n",
        "\n",
        "import subprocess\n",
        "import time\n",
        "from pyngrok import ngrok\n",
        "\n",
        "\n",
        "process = subprocess.Popen([\"python3\", \"api.py\"])\n",
        "\n",
        "\n",
        "time.sleep(5)\n",
        "\n",
        "\n",
        "ngrok.set_auth_token(\"2ur*************\")\n",
        "public_url = ngrok.connect(8080)\n",
        "print(f\"API is live at: {public_url}\")\n"
      ],
      "metadata": {
        "colab": {
          "base_uri": "https://localhost:8080/"
        },
        "id": "DprSLKr79Egl",
        "outputId": "76c4b21e-052e-4413-d3ba-1f5037b3aaa1"
      },
      "execution_count": 3,
      "outputs": [
        {
          "output_type": "stream",
          "name": "stdout",
          "text": [
            "API is live at: NgrokTunnel: \"https://554d-35-187-253-172.ngrok-free.app\" -> \"http://localhost:8080\"\n"
          ]
        }
      ]
    },
    {
      "cell_type": "code",
      "source": [
        "%%writefile app.py\n",
        "import streamlit as st\n",
        "import requests\n",
        "import io\n",
        "from PIL import Image\n",
        "\n",
        "\n",
        "FLASK_API_URL = \"https://554d-35-187-253-172.ngrok-free.app/\"\n",
        "\n",
        "st.title(\"NEURAL STYLE TRANSFER \")\n",
        "\n",
        "uploaded_file = st.file_uploader(\"Upload an image\", type=[\"png\", \"jpg\", \"jpeg\"])\n",
        "\n",
        "prompt = st.text_input(\"Enter your instruction \")\n",
        "\n",
        "if uploaded_file is not None:\n",
        "    image = Image.open(uploaded_file)\n",
        "    st.image(image, caption=\"Uploaded Image\", width=300)\n",
        "\n",
        "    if st.button(\"Generate Edited Image\"):\n",
        "        with st.spinner(\"Processing...\"):\n",
        "            img_bytes = io.BytesIO()\n",
        "            image.save(img_bytes, format=\"PNG\")\n",
        "            img_bytes.seek(0)\n",
        "\n",
        "            files = {\"image\": img_bytes.getvalue()}\n",
        "            data = {\"prompt\": prompt}\n",
        "\n",
        "            response = requests.post(FLASK_API_URL, files={\"image\": img_bytes}, data=data)\n",
        "\n",
        "            if response.status_code == 200:\n",
        "                output_image = Image.open(io.BytesIO(response.content))\n",
        "                st.image(output_image, caption=\"Edited Image\", use_column_width=True)\n",
        "\n",
        "                buf = io.BytesIO()\n",
        "                output_image.save(buf, format=\"PNG\")\n",
        "                st.download_button(\"Download Image\", buf.getvalue(), file_name=\"edited_image.png\", mime=\"image/png\")\n",
        "            else:\n",
        "                st.error(\"Error processing image. Try again.\")\n"
      ],
      "metadata": {
        "colab": {
          "base_uri": "https://localhost:8080/"
        },
        "id": "l2qVRJwC95FW",
        "outputId": "a0cd4073-cba0-474e-9c76-409396cc7ef6"
      },
      "execution_count": 4,
      "outputs": [
        {
          "output_type": "stream",
          "name": "stdout",
          "text": [
            "Overwriting app.py\n"
          ]
        }
      ]
    },
    {
      "cell_type": "code",
      "source": [
        "!pip install streamlit pyngrok --quiet\n",
        "\n",
        "import os\n",
        "import time\n",
        "import threading\n",
        "from pyngrok import ngrok\n",
        "\n",
        "\n",
        "def run_streamlit():\n",
        "    os.system(\"streamlit run app.py &\")\n",
        "\n",
        "\n",
        "thread = threading.Thread(target=run_streamlit, daemon=True)\n",
        "thread.start()\n",
        "\n",
        "\n",
        "time.sleep(10)\n",
        "\n",
        "public_url = ngrok.connect(8501)\n",
        "print(f\"Streamlit is live at: {public_url}\")\n",
        "\n",
        "\n"
      ],
      "metadata": {
        "colab": {
          "base_uri": "https://localhost:8080/"
        },
        "id": "QNm5hVWh-gcA",
        "outputId": "57d5a2b2-131e-4164-d5eb-dd06f3c76433"
      },
      "execution_count": 5,
      "outputs": [
        {
          "output_type": "stream",
          "name": "stdout",
          "text": [
            "Streamlit is live at: NgrokTunnel: \"https://e852-35-187-253-172.ngrok-free.app\" -> \"http://localhost:8501\"\n"
          ]
        }
      ]
    },
    {
      "cell_type": "code",
      "source": [
        "!python -u app.py\n"
      ],
      "metadata": {
        "colab": {
          "base_uri": "https://localhost:8080/"
        },
        "id": "plbGHKInGfPz",
        "outputId": "39406be0-4cc7-4759-9069-cb95162dd4ed"
      },
      "execution_count": 6,
      "outputs": [
        {
          "output_type": "stream",
          "name": "stdout",
          "text": [
            "2025-03-27 15:05:25.270 WARNING streamlit.runtime.scriptrunner_utils.script_run_context: Thread 'MainThread': missing ScriptRunContext! This warning can be ignored when running in bare mode.\n",
            "2025-03-27 15:05:25.330 \n",
            "  \u001b[33m\u001b[1mWarning:\u001b[0m to view this Streamlit app on a browser, run it with the following\n",
            "  command:\n",
            "\n",
            "    streamlit run app.py [ARGUMENTS]\n",
            "2025-03-27 15:05:25.330 Thread 'MainThread': missing ScriptRunContext! This warning can be ignored when running in bare mode.\n",
            "2025-03-27 15:05:25.330 Thread 'MainThread': missing ScriptRunContext! This warning can be ignored when running in bare mode.\n",
            "2025-03-27 15:05:25.330 Thread 'MainThread': missing ScriptRunContext! This warning can be ignored when running in bare mode.\n",
            "2025-03-27 15:05:25.330 Thread 'MainThread': missing ScriptRunContext! This warning can be ignored when running in bare mode.\n",
            "2025-03-27 15:05:25.330 Thread 'MainThread': missing ScriptRunContext! This warning can be ignored when running in bare mode.\n",
            "2025-03-27 15:05:25.331 Thread 'MainThread': missing ScriptRunContext! This warning can be ignored when running in bare mode.\n",
            "2025-03-27 15:05:25.331 Thread 'MainThread': missing ScriptRunContext! This warning can be ignored when running in bare mode.\n",
            "2025-03-27 15:05:25.331 Thread 'MainThread': missing ScriptRunContext! This warning can be ignored when running in bare mode.\n",
            "2025-03-27 15:05:25.331 Thread 'MainThread': missing ScriptRunContext! This warning can be ignored when running in bare mode.\n",
            "2025-03-27 15:05:25.331 Thread 'MainThread': missing ScriptRunContext! This warning can be ignored when running in bare mode.\n",
            "2025-03-27 15:05:25.331 Session state does not function when running a script without `streamlit run`\n",
            "2025-03-27 15:05:25.331 Thread 'MainThread': missing ScriptRunContext! This warning can be ignored when running in bare mode.\n",
            "2025-03-27 15:05:25.331 Thread 'MainThread': missing ScriptRunContext! This warning can be ignored when running in bare mode.\n"
          ]
        }
      ]
    }
  ]
}